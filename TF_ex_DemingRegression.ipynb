{
 "cells": [
  {
   "cell_type": "markdown",
   "metadata": {},
   "source": [
    "Deming Regression은 Total Regression(전회귀)로도 불린다.\n",
    "\n",
    "Deming Regression는 y값과 x값의 오차를 최소화한다.\n",
    "\n",
    "Deming Regression을 구현하기 위해서는 Loss Cost Function을 수정해야 한다.\n",
    "\n",
    "일반적인 선형 회귀의 비용함수는 수직거리를 최소화하기 때문이다.\n",
    "\n",
    "직선의 기울기와 y절편을 이용하여 점까지 수식 거리를 구하고 tensorflow가 그 값을 최소화 하게 된다."
   ]
  },
  {
   "cell_type": "code",
   "execution_count": 1,
   "metadata": {},
   "outputs": [
    {
     "name": "stdout",
     "output_type": "stream",
     "text": [
      "dict_keys(['data', 'target', 'target_names', 'DESCR', 'feature_names', 'filename'])\n",
      "['sepal length (cm)', 'sepal width (cm)', 'petal length (cm)', 'petal width (cm)']\n",
      "WARNING:tensorflow:From D:\\Anaconda3\\lib\\site-packages\\tensorflow\\python\\framework\\op_def_library.py:263: colocate_with (from tensorflow.python.framework.ops) is deprecated and will be removed in a future version.\n",
      "Instructions for updating:\n",
      "Colocations handled automatically by placer.\n"
     ]
    }
   ],
   "source": [
    "import tensorflow as tf\n",
    "from tensorflow.python.framework import ops\n",
    "import numpy as np\n",
    "from sklearn.datasets import load_iris\n",
    "\n",
    "ops.reset_default_graph()\n",
    "\n",
    "iris = load_iris()\n",
    "print(iris.keys())\n",
    "# dict_keys(['data', 'target', 'target_names', 'DESCR', 'feature_names'])\n",
    "\n",
    "\n",
    "print(iris.feature_names)\n",
    "# ['sepal length (cm)', 'sepal width (cm)', 'petal length (cm)', 'petal width (cm)']\n",
    "\n",
    "\n",
    "# load the data\n",
    "x_val = iris.data[:,3] # petal width\n",
    "y_val = iris.data[:,0] # sepal length\n",
    "\n",
    "\n",
    "# initialize placeholders\n",
    "x_data = tf.placeholder(shape=[None, 1], dtype=tf.float32)\n",
    "y_target = tf.placeholder(shape=[None, 1], dtype=tf.float32)\n",
    "\n",
    "\n",
    "# create variables for linear regression\n",
    "A = tf.Variable(tf.random_normal(shape=[1, 1]))\n",
    "b = tf.Variable(tf.random_uniform(shape=[1, 1]))"
   ]
  },
  {
   "cell_type": "code",
   "execution_count": 2,
   "metadata": {},
   "outputs": [
    {
     "name": "stdout",
     "output_type": "stream",
     "text": [
      "step 100: A=[[-4.429977]], b=[[5.0264673]], Loss=1.1883422136306763\n",
      "step 200: A=[[-4.4157834]], b=[[7.103489]], Loss=1.0965512990951538\n",
      "step 300: A=[[-4.1848326]], b=[[8.259549]], Loss=1.0110092163085938\n",
      "step 400: A=[[-3.6274662]], b=[[9.432504]], Loss=0.798893392086029\n",
      "step 500: A=[[-3.4251952]], b=[[10.046923]], Loss=0.8094901442527771\n",
      "step 600: A=[[-3.5872827]], b=[[10.327909]], Loss=0.8358333706855774\n",
      "step 700: A=[[-3.7845888]], b=[[10.553657]], Loss=0.7802285552024841\n",
      "step 800: A=[[-3.9233623]], b=[[10.7941265]], Loss=0.7831000685691833\n",
      "step 900: A=[[-4.1072526]], b=[[10.982842]], Loss=0.749678909778595\n",
      "step 1000: A=[[-4.257821]], b=[[11.173542]], Loss=0.7746445536613464\n"
     ]
    }
   ],
   "source": [
    "with tf.Session() as sess:\n",
    "    fomula = tf.add(tf.matmul(x_data, A) ,b)\n",
    "    demm_numer = tf.abs(tf.subtract(fomula, y_target)) # numerator\n",
    "    demm_denom = tf.sqrt(tf.add(tf.square(A), 1)) # denominator\n",
    "    loss = tf.reduce_mean(tf.truediv(demm_numer, demm_denom)) # 점과 직선사이의 거리\n",
    "\n",
    "    opt = tf.train.GradientDescentOptimizer(learning_rate=0.15)\n",
    "    train_step = opt.minimize(loss)\n",
    "\n",
    "    init = tf.global_variables_initializer()\n",
    "    init.run()\n",
    "\n",
    "    loss_vec = []\n",
    "    batch_size = 125\n",
    "   \n",
    "    for i in range(1000):\n",
    "        rand_idx = np.random.choice(len(x_val), size=batch_size)\n",
    "        rand_x = x_val[rand_idx].reshape(-1, 1)\n",
    "        rand_y = y_val[rand_idx].reshape(-1, 1)\n",
    "\n",
    "        my_dict = {x_data:rand_x, y_target:rand_y}\n",
    "        sess.run(train_step, feed_dict=my_dict)\n",
    "        temp_loss = sess.run(loss, feed_dict=my_dict)\n",
    "        loss_vec.append(temp_loss)\n",
    "\n",
    "        if (i+1)%100==0:\n",
    "            print('step {}: A={}, b={}, Loss={}'.format(i+1, A.eval(), b.eval(), temp_loss))\n",
    "            # step 100: A=[[2.8481812]], b=[[2.1150784]], Loss=0.39886653423309326\n",
    "            # step 200: A=[[2.4716957]], b=[[2.581221]], Loss=0.4149680733680725\n",
    "            # step 300: A=[[2.0858126]], b=[[3.1767926]], Loss=0.37009572982788086\n",
    "            # step 400: A=[[1.5102198]], b=[[3.989578]], Loss=0.30516621470451355\n",
    "            # step 500: A=[[1.0213077]], b=[[4.55735]], Loss=0.25061553716659546\n",
    "            # step 600: A=[[1.0353084]], b=[[4.609328]], Loss=0.2725234925746918\n",
    "            # step 700: A=[[1.0107175]], b=[[4.6160936]], Loss=0.3082656264305115\n",
    "            # step 800: A=[[1.0400845]], b=[[4.612001]], Loss=0.27881959080696106\n",
    "            # step 900: A=[[1.0318567]], b=[[4.6159105]], Loss=0.27347463369369507\n",
    "            # step 1000: A=[[0.9662517]], b=[[4.5973287]], Loss=0.2258552461862564\n",
    "\n",
    "    [slope] = A.eval()\n",
    "    [cept] = b.eval()"
   ]
  },
  {
   "cell_type": "code",
   "execution_count": 4,
   "metadata": {},
   "outputs": [
    {
     "data": {
      "image/png": "[encoded data removed]",
      "text/plain": [
       "<Figure size 432x288 with 2 Axes>"
      ]
     },
     "metadata": {
      "needs_background": "light"
     },
     "output_type": "display_data"
    }
   ],
   "source": [
    "import matplotlib.pyplot as plt\n",
    "\n",
    "best_fit = []\n",
    "for i in x_val.ravel():\n",
    "    poly = i*slope[0] + cept[0]\n",
    "    best_fit.append(poly)\n",
    "\n",
    "_, axes = plt.subplots(1, 2)\n",
    "axes[0].scatter(x_val, y_val, edgecolors='k', label='Data Points')\n",
    "axes[0].plot(x_val, best_fit, c='red', label='Best fit line')\n",
    "axes[0].set_title('Petal Width vs Sepal Length', size=12)\n",
    "axes[0].set_xlabel('Petal Width')\n",
    "axes[0].set_ylabel('Sepal Length')\n",
    "axes[0].legend(loc=2)\n",
    "\n",
    "axes[1].plot(loss_vec, c='k')\n",
    "axes[1].set_title('Demming Loss per Generation', size=12)\n",
    "axes[1].set_xlabel('Iteration')\n",
    "axes[1].set_ylabel('Demming Loss')\n",
    "\n",
    "plt.show()"
   ]
  }
 ],
 "metadata": {
  "kernelspec": {
   "display_name": "Python 3",
   "language": "python",
   "name": "python3"
  },
  "language_info": {
   "codemirror_mode": {
    "name": "ipython",
    "version": 3
   },
   "file_extension": ".py",
   "mimetype": "text/x-python",
   "name": "python",
   "nbconvert_exporter": "python",
   "pygments_lexer": "ipython3",
   "version": "3.7.3"
  }
 },
 "nbformat": 4,
 "nbformat_minor": 2
}
