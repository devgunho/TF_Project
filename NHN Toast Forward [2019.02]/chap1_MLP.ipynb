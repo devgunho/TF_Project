{
 "cells": [
  {
   "cell_type": "markdown",
   "metadata": {},
   "source": [
    "# Example: Multi-Layer Perceptron (MLP) <a class=\"tocSkip\">"
   ]
  },
  {
   "cell_type": "code",
   "execution_count": 1,
   "metadata": {
    "scrolled": true
   },
   "outputs": [
    {
     "name": "stdout",
     "output_type": "stream",
     "text": [
      "tensorflow ver.1.10.0\n"
     ]
    }
   ],
   "source": [
    "import tensorflow as tf\n",
    "from tensorflow.examples.tutorials.mnist import input_data\n",
    "from PIL import Image\n",
    "import matplotlib.pyplot as plt\n",
    "import numpy as np\n",
    "import math\n",
    "import os\n",
    "import random\n",
    "os.environ['CUDA_VISIBLE_DEVICES'] = ''\n",
    "\n",
    "print ('tensorflow ver.{}'.format(tf.__version__))\n",
    "tf.logging.set_verbosity(tf.logging.ERROR)"
   ]
  },
  {
   "cell_type": "markdown",
   "metadata": {},
   "source": [
    "# Build Graph"
   ]
  },
  {
   "cell_type": "markdown",
   "metadata": {},
   "source": [
    "## Data 읽어오기"
   ]
  },
  {
   "cell_type": "code",
   "execution_count": 2,
   "metadata": {},
   "outputs": [],
   "source": [
    "def get_data():\n",
    "    return input_data.read_data_sets(\"MNIST_data/\", one_hot=True)"
   ]
  },
  {
   "cell_type": "markdown",
   "metadata": {},
   "source": [
    "### - MNIST Data 살펴보기"
   ]
  },
  {
   "cell_type": "code",
   "execution_count": 3,
   "metadata": {},
   "outputs": [
    {
     "name": "stdout",
     "output_type": "stream",
     "text": [
      "Extracting MNIST_data/train-images-idx3-ubyte.gz\n",
      "Extracting MNIST_data/train-labels-idx1-ubyte.gz\n",
      "Extracting MNIST_data/t10k-images-idx3-ubyte.gz\n",
      "Extracting MNIST_data/t10k-labels-idx1-ubyte.gz\n",
      "train image num :  (55000, 784)\n",
      "train label num :  (55000, 10)\n"
     ]
    }
   ],
   "source": [
    "mnist = get_data()\n",
    "\n",
    "print 'train image num : ', mnist.train.images.shape\n",
    "print 'train label num : ', mnist.train.labels.shape"
   ]
  },
  {
   "cell_type": "code",
   "execution_count": 5,
   "metadata": {},
   "outputs": [
    {
     "name": "stdout",
     "output_type": "stream",
     "text": [
      "label :  [[0. 0. 0. 0. 0. 1. 0. 0. 0. 0.]]\n"
     ]
    },
    {
     "data": {
      "image/png": "[encoded data removed]",
      "text/plain": [
       "<Figure size 432x288 with 1 Axes>"
      ]
     },
     "metadata": {
      "needs_background": "light"
     },
     "output_type": "display_data"
    }
   ],
   "source": [
    "sample_idx = random.sample(range(mnist.train.images.shape[0]), 1)\n",
    "\n",
    "sample_img = Image.fromarray(np.reshape(mnist.train.images[sample_idx]*255, (28, 28)).astype(np.int32))\n",
    "sample_label = mnist.train.labels[sample_idx]\n",
    "\n",
    "plt.imshow(sample_img)\n",
    "print 'label : ', sample_label"
   ]
  },
  {
   "cell_type": "markdown",
   "metadata": {},
   "source": [
    "## Model 정의"
   ]
  },
  {
   "cell_type": "markdown",
   "metadata": {},
   "source": [
    "### build model"
   ]
  },
  {
   "cell_type": "code",
   "execution_count": 6,
   "metadata": {},
   "outputs": [],
   "source": [
    "def build_model(x):\n",
    "    W1 = tf.Variable(tf.random_normal([784, 128]), name='weight1')\n",
    "    b1 = tf.Variable(tf.random_normal([128]), name='bias1')\n",
    "    hidden_layer1 = tf.nn.sigmoid(tf.matmul(x, W1) + b1)\n",
    "\n",
    "    W2 = tf.Variable(tf.random_normal([128, 32]), name='weight2')\n",
    "    b2 = tf.Variable(tf.random_normal([32]), name='bias2')\n",
    "    hidden_layer2 = tf.nn.sigmoid(tf.matmul(hidden_layer1, W2) + b2)\n",
    "\n",
    "    W3 = tf.Variable(tf.random_normal([32, 10]), name='weight3')\n",
    "    b3 = tf.Variable(tf.random_normal([10]), name='bias3')\n",
    "    logits = tf.matmul(hidden_layer2, W3) + b3\n",
    "    prediction = tf.nn.softmax(logits)\n",
    "    \n",
    "    return {'logits': logits, 'prediction': prediction}"
   ]
  },
  {
   "cell_type": "markdown",
   "metadata": {},
   "source": [
    "## Loss 정의"
   ]
  },
  {
   "cell_type": "code",
   "execution_count": 7,
   "metadata": {},
   "outputs": [],
   "source": [
    "def get_loss(y, model):\n",
    "    loss = tf.reduce_mean(tf.nn.softmax_cross_entropy_with_logits(logits=model['logits'], labels=y))\n",
    "    return loss"
   ]
  },
  {
   "cell_type": "markdown",
   "metadata": {},
   "source": [
    "## Optimizer 설정"
   ]
  },
  {
   "cell_type": "code",
   "execution_count": 8,
   "metadata": {},
   "outputs": [],
   "source": [
    "def get_optimizer():\n",
    "    optimizer = tf.train.GradientDescentOptimizer(0.1)\n",
    "    return optimizer"
   ]
  },
  {
   "cell_type": "markdown",
   "metadata": {},
   "source": [
    "## Train Step 정의"
   ]
  },
  {
   "cell_type": "code",
   "execution_count": 9,
   "metadata": {},
   "outputs": [],
   "source": [
    "def get_train_step(loss, optimizer):\n",
    "    train_step = optimizer.minimize(loss)\n",
    "\n",
    "    return train_step"
   ]
  },
  {
   "cell_type": "markdown",
   "metadata": {},
   "source": [
    "## Graph 정의"
   ]
  },
  {
   "cell_type": "code",
   "execution_count": 10,
   "metadata": {
    "scrolled": true
   },
   "outputs": [
    {
     "name": "stdout",
     "output_type": "stream",
     "text": [
      "Extracting MNIST_data/train-images-idx3-ubyte.gz\n",
      "Extracting MNIST_data/train-labels-idx1-ubyte.gz\n",
      "Extracting MNIST_data/t10k-images-idx3-ubyte.gz\n",
      "Extracting MNIST_data/t10k-labels-idx1-ubyte.gz\n"
     ]
    }
   ],
   "source": [
    "# 데이터 읽어오기\n",
    "mnist = get_data()"
   ]
  },
  {
   "cell_type": "code",
   "execution_count": 11,
   "metadata": {},
   "outputs": [],
   "source": [
    "# `Placeholder`: graph input 설정\n",
    "x = tf.placeholder(tf.float32, [None, 784])\n",
    "y = tf.placeholder(tf.float32, [None, 10])"
   ]
  },
  {
   "cell_type": "markdown",
   "metadata": {},
   "source": [
    ">`placeholder`\n",
    "    * shape : [None, 784]\n",
    "        * None\n",
    "            * 정해지지 않음\n",
    "            * 이미지를 여러장 씩 병렬처리\n",
    "        * 784\n",
    "            * 28x28이미지를 1-D로 표현"
   ]
  },
  {
   "cell_type": "code",
   "execution_count": 12,
   "metadata": {},
   "outputs": [],
   "source": [
    "# Model 정의\n",
    "model = build_model(x)\n",
    "\n",
    "# Loss 정의\n",
    "loss = get_loss(y, model)\n",
    "\n",
    "# Optimizer 설정\n",
    "optimizer = get_optimizer()\n",
    "\n",
    "# Train Step 정의\n",
    "train_step = get_train_step(loss, optimizer)"
   ]
  },
  {
   "cell_type": "markdown",
   "metadata": {},
   "source": [
    "---"
   ]
  },
  {
   "cell_type": "markdown",
   "metadata": {},
   "source": [
    "# Run Graph"
   ]
  },
  {
   "cell_type": "markdown",
   "metadata": {},
   "source": [
    "## Session 생성 및 Variable 초기화"
   ]
  },
  {
   "cell_type": "code",
   "execution_count": 13,
   "metadata": {},
   "outputs": [],
   "source": [
    "sess = tf.Session()\n",
    "sess.run(tf.global_variables_initializer())"
   ]
  },
  {
   "cell_type": "markdown",
   "metadata": {},
   "source": [
    "## Graph 실행\n",
    "* `batch` : 동시에 처리하는 데이터 묶음\n",
    "* `1 epoch` : 전체 데이터셋을 한 번 training에 사용\n",
    "* `1 step(iteration)` : training 연산을 한 번 실행\n",
    "* MNIST train image 수 55,000\n",
    "    * batch size : 100\n",
    "    * 1 epoch을 위해서는 55,000/100 = 550 step 수행 필요"
   ]
  },
  {
   "cell_type": "code",
   "execution_count": 14,
   "metadata": {},
   "outputs": [
    {
     "name": "stdout",
     "output_type": "stream",
     "text": [
      "[0000 step] accuracy : 0.0838, loss :5.9694\n",
      "[0100 step] accuracy : 0.2818, loss :2.1399\n",
      "[0200 step] accuracy : 0.4218, loss :1.7574\n",
      "[0300 step] accuracy : 0.5133, loss :1.5161\n",
      "[0400 step] accuracy : 0.5779, loss :1.3337\n",
      "[0500 step] accuracy : 0.6234, loss :1.2023\n",
      "[0600 step] accuracy : 0.6525, loss :1.1015\n",
      "[0700 step] accuracy : 0.6813, loss :1.0189\n",
      "[0800 step] accuracy : 0.6999, loss :0.9527\n",
      "[0900 step] accuracy : 0.7209, loss :0.8972\n",
      "[1000 step] accuracy : 0.7368, loss :0.8492\n"
     ]
    }
   ],
   "source": [
    "train_images_size = mnist.train.images.shape[0]\n",
    "batch_size = 100\n",
    "num_batch_per_epoch = int(math.ceil(train_images_size / batch_size))\n",
    "num_epoch = 2\n",
    "\n",
    "# Accuracy 정의\n",
    "correct_prediction = tf.equal(tf.argmax(model['prediction'], 1), tf.argmax(y, 1))\n",
    "accuracy = tf.reduce_mean(tf.cast(correct_prediction, tf.float32))\n",
    "\n",
    "for idx in range(num_batch_per_epoch*num_epoch):\n",
    "    # load data\n",
    "    batch_xs, batch_ys = mnist.train.next_batch(batch_size)\n",
    "\n",
    "    if idx % 100 == 0:\n",
    "        _accuracy, _loss = sess.run([accuracy, loss], feed_dict={x: mnist.test.images, y: mnist.test.labels})\n",
    "        print ('[{:04d} step] accuracy : {:.4f}, loss :{:.4f}'.format(idx, _accuracy, _loss))\n",
    "    # train\n",
    "    sess.run(train_step, feed_dict={x:batch_xs, y:batch_ys})"
   ]
  },
  {
   "cell_type": "markdown",
   "metadata": {},
   "source": [
    "## Test"
   ]
  },
  {
   "cell_type": "code",
   "execution_count": 15,
   "metadata": {},
   "outputs": [
    {
     "name": "stdout",
     "output_type": "stream",
     "text": [
      "gt label :  6\n"
     ]
    },
    {
     "data": {
      "image/png": "[encoded data removed]",
      "text/plain": [
       "<Figure size 432x288 with 1 Axes>"
      ]
     },
     "metadata": {
      "needs_background": "light"
     },
     "output_type": "display_data"
    }
   ],
   "source": [
    "test_idx = random.sample(range(mnist.test.images.shape[0]), 1)\n",
    "\n",
    "test_img = Image.fromarray(np.reshape(mnist.test.images[test_idx]*255, (28, 28)).astype(np.int32))\n",
    "test_label = mnist.test.labels[test_idx]\n",
    "\n",
    "plt.imshow(test_img)\n",
    "print 'gt label : ', np.argmax(test_label)"
   ]
  },
  {
   "cell_type": "code",
   "execution_count": 16,
   "metadata": {},
   "outputs": [
    {
     "name": "stdout",
     "output_type": "stream",
     "text": [
      "prediction label : 6, score: 0.8537\n"
     ]
    }
   ],
   "source": [
    "_prediction = sess.run(model['prediction'], feed_dict={x:mnist.test.images[test_idx], y:mnist.test.labels[test_idx]})\n",
    "\n",
    "prediction_label = np.argmax(_prediction[0])\n",
    "prediction_score = _prediction[0][prediction_label]\n",
    "print 'prediction label : {}, score: {:.4f}'.format(prediction_label, prediction_score)"
   ]
  },
  {
   "cell_type": "code",
   "execution_count": null,
   "metadata": {},
   "outputs": [],
   "source": []
  }
 ],
 "metadata": {
  "kernelspec": {
   "display_name": "Python 2",
   "language": "python",
   "name": "python2"
  },
  "language_info": {
   "codemirror_mode": {
    "name": "ipython",
    "version": 2
   },
   "file_extension": ".py",
   "mimetype": "text/x-python",
   "name": "python",
   "nbconvert_exporter": "python",
   "pygments_lexer": "ipython2",
   "version": "2.7.12"
  },
  "latex_envs": {
   "LaTeX_envs_menu_present": true,
   "autoclose": false,
   "autocomplete": true,
   "bibliofile": "biblio.bib",
   "cite_by": "apalike",
   "current_citInitial": 1,
   "eqLabelWithNumbers": true,
   "eqNumInitial": 1,
   "hotkeys": {
    "equation": "Ctrl-E",
    "itemize": "Ctrl-I"
   },
   "labels_anchors": false,
   "latex_user_defs": false,
   "report_style_numbering": false,
   "user_envs_cfg": false
  },
  "toc": {
   "base_numbering": 1,
   "nav_menu": {},
   "number_sections": true,
   "sideBar": true,
   "skip_h1_title": false,
   "title_cell": "Table of Contents",
   "title_sidebar": "Contents",
   "toc_cell": false,
   "toc_position": {},
   "toc_section_display": true,
   "toc_window_display": true
  }
 },
 "nbformat": 4,
 "nbformat_minor": 2
}
