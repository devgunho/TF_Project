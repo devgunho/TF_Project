{
 "cells": [
  {
   "cell_type": "markdown",
   "metadata": {},
   "source": [
    "# Example: Linear Regression <a class=\"tocSkip\">"
   ]
  },
  {
   "cell_type": "code",
   "execution_count": 10,
   "metadata": {},
   "outputs": [
    {
     "name": "stdout",
     "output_type": "stream",
     "text": [
      "tensorflow ver.1.10.0\n"
     ]
    }
   ],
   "source": [
    "import tensorflow as tf\n",
    "import numpy as np\n",
    "import os\n",
    "os.environ['CUDA_VISIBLE_DEVICES'] = ''\n",
    "\n",
    "print ('tensorflow ver.{}'.format(tf.__version__))"
   ]
  },
  {
   "cell_type": "markdown",
   "metadata": {},
   "source": [
    "# Build Graph"
   ]
  },
  {
   "cell_type": "markdown",
   "metadata": {},
   "source": [
    "## Data 읽어오기"
   ]
  },
  {
   "cell_type": "code",
   "execution_count": 11,
   "metadata": {},
   "outputs": [],
   "source": [
    "def get_data():\n",
    "    data_x = np.reshape([[10, 1], [9, 1], [3, 1], [2, 1]], newshape=(4, 2))\n",
    "    data_y = np.reshape([90, 80, 50, 30], newshape=(4, 1))\n",
    "    return data_x, data_y"
   ]
  },
  {
   "cell_type": "markdown",
   "metadata": {},
   "source": [
    "## Model 정의"
   ]
  },
  {
   "cell_type": "markdown",
   "metadata": {},
   "source": [
    "### - `Placeholder`: graph input 설정"
   ]
  },
  {
   "cell_type": "code",
   "execution_count": 12,
   "metadata": {},
   "outputs": [],
   "source": [
    "def build_model(X,W):\n",
    "    hypothesis = tf.matmul(X, W) # Our Model\n",
    "    \n",
    "    return hypothesis"
   ]
  },
  {
   "cell_type": "markdown",
   "metadata": {},
   "source": [
    "## Loss 정의"
   ]
  },
  {
   "cell_type": "code",
   "execution_count": 13,
   "metadata": {},
   "outputs": [],
   "source": [
    "def get_loss(Y, model):\n",
    "    loss = tf.reduce_mean(tf.square(model-Y))\n",
    "    \n",
    "    return loss"
   ]
  },
  {
   "cell_type": "markdown",
   "metadata": {},
   "source": [
    "## Opimizer 설정"
   ]
  },
  {
   "cell_type": "code",
   "execution_count": 14,
   "metadata": {},
   "outputs": [],
   "source": [
    "def get_optimizer():    \n",
    "    optimizer = tf.train.GradientDescentOptimizer(learning_rate=0.01)\n",
    "\n",
    "    return optimizer"
   ]
  },
  {
   "cell_type": "markdown",
   "metadata": {},
   "source": [
    "## Train Step 정의"
   ]
  },
  {
   "cell_type": "code",
   "execution_count": 15,
   "metadata": {},
   "outputs": [],
   "source": [
    "def get_train_step(loss, optimizer):\n",
    "    train_step = optimizer.minimize(loss)\n",
    "    \n",
    "    return train_step"
   ]
  },
  {
   "cell_type": "markdown",
   "metadata": {},
   "source": [
    "## Graph 정의"
   ]
  },
  {
   "cell_type": "code",
   "execution_count": 16,
   "metadata": {},
   "outputs": [],
   "source": [
    "## 데이터 읽어오기\n",
    "data_x, data_y = get_data()\n",
    "\n",
    "# 모델 만들기\n",
    "X = tf.placeholder(tf.float32, shape=[4, 2])\n",
    "Y = tf.placeholder(tf.float32, shape=[4, 1])\n",
    "\n",
    "W = tf.Variable(tf.random_normal([2, 1]), name='weight')\n",
    "\n",
    "model = build_model(X,W)\n",
    "\n",
    "# Loss 정의\n",
    "loss = get_loss(Y, model)\n",
    "\n",
    "# Optimizer 설정\n",
    "optimizer = get_optimizer()\n",
    "\n",
    "# Train Step 정의\n",
    "train_step = get_train_step(loss, optimizer)"
   ]
  },
  {
   "cell_type": "markdown",
   "metadata": {},
   "source": [
    "---"
   ]
  },
  {
   "cell_type": "markdown",
   "metadata": {},
   "source": [
    "# Run Graph"
   ]
  },
  {
   "cell_type": "markdown",
   "metadata": {},
   "source": [
    "## Session 생성 및 Variables 초기화"
   ]
  },
  {
   "cell_type": "code",
   "execution_count": 17,
   "metadata": {},
   "outputs": [],
   "source": [
    "sess = tf.Session()\n",
    "sess.run(tf.global_variables_initializer())"
   ]
  },
  {
   "cell_type": "markdown",
   "metadata": {},
   "source": [
    "## Graph 실행"
   ]
  },
  {
   "cell_type": "code",
   "execution_count": 18,
   "metadata": {},
   "outputs": [
    {
     "name": "stdout",
     "output_type": "stream",
     "text": [
      "--step:   0, W:(9.15, 1.04), Loss:148.50\n",
      "--step:  30, W:(8.93, 4.16), Loss:114.80\n",
      "--step:  60, W:(8.60, 6.81), Loss:90.97\n",
      "--step:  90, W:(8.32, 9.09), Loss:73.42\n",
      "--step: 120, W:(8.07, 11.04), Loss:60.48\n",
      "--step: 150, W:(7.87, 12.72), Loss:50.94\n",
      "--step: 180, W:(7.69, 14.16), Loss:43.92\n",
      "--step: 210, W:(7.53, 15.40), Loss:38.74\n",
      "--step: 240, W:(7.40, 16.46), Loss:34.93\n",
      "--step: 270, W:(7.29, 17.37), Loss:32.12\n",
      "--step: 300, W:(7.19, 18.16), Loss:30.05\n",
      "--step: 330, W:(7.11, 18.83), Loss:28.52\n",
      "--step: 360, W:(7.03, 19.41), Loss:27.40\n",
      "--step: 390, W:(6.97, 19.90), Loss:26.57\n",
      "--step: 420, W:(6.92, 20.32), Loss:25.96\n",
      "--step: 450, W:(6.87, 20.69), Loss:25.51\n",
      "--step: 480, W:(6.84, 21.00), Loss:25.18\n"
     ]
    }
   ],
   "source": [
    "for step in range(500):\n",
    "    sess.run(train_step, feed_dict={X:data_x, Y:data_y})\n",
    "    \n",
    "    if (step) % 30 == 0:\n",
    "        _loss, _W = sess.run([loss, W], feed_dict={X:data_x, Y:data_y})\n",
    "        print '--step: {:3d}, W:({:.2f}, {:.2f}), Loss:{:.2f}'.format(step, _W[0][0], _W[1][0], _loss)\n"
   ]
  }
 ],
 "metadata": {
  "kernelspec": {
   "display_name": "Python 2",
   "language": "python",
   "name": "python2"
  },
  "language_info": {
   "codemirror_mode": {
    "name": "ipython",
    "version": 2
   },
   "file_extension": ".py",
   "mimetype": "text/x-python",
   "name": "python",
   "nbconvert_exporter": "python",
   "pygments_lexer": "ipython2",
   "version": "2.7.12"
  },
  "latex_envs": {
   "LaTeX_envs_menu_present": true,
   "autoclose": false,
   "autocomplete": true,
   "bibliofile": "biblio.bib",
   "cite_by": "apalike",
   "current_citInitial": 1,
   "eqLabelWithNumbers": true,
   "eqNumInitial": 1,
   "hotkeys": {
    "equation": "Ctrl-E",
    "itemize": "Ctrl-I"
   },
   "labels_anchors": false,
   "latex_user_defs": false,
   "report_style_numbering": false,
   "user_envs_cfg": false
  },
  "toc": {
   "base_numbering": 1,
   "nav_menu": {},
   "number_sections": true,
   "sideBar": true,
   "skip_h1_title": false,
   "title_cell": "Table of Contents",
   "title_sidebar": "Contents",
   "toc_cell": false,
   "toc_position": {},
   "toc_section_display": true,
   "toc_window_display": true
  }
 },
 "nbformat": 4,
 "nbformat_minor": 2
}
