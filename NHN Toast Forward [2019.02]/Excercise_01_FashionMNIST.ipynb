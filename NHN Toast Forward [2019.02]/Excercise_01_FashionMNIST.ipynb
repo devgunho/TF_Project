{
 "cells": [
  {
   "cell_type": "markdown",
   "metadata": {},
   "source": [
    "# [실습] Fashion MNIST 학습하기 <a class='tocSkip'>\n",
    "    \n",
    "## 목표 : 새로운 CNN모델을 만들어 최고 accuracy를 달성해주세요. <a class='tocSkip'>\n",
    "\n",
    "## 제한시간 : 20분 <a class='tocSkip'>\n"
   ]
  },
  {
   "cell_type": "code",
   "execution_count": 16,
   "metadata": {},
   "outputs": [],
   "source": [
    "import tensorflow as tf\n",
    "import matplotlib.pyplot as plt\n",
    "import numpy as np\n",
    "\n",
    "import os\n",
    "tf.logging.set_verbosity(tf.logging.ERROR)"
   ]
  },
  {
   "cell_type": "markdown",
   "metadata": {},
   "source": [
    "# Build Graph"
   ]
  },
  {
   "cell_type": "markdown",
   "metadata": {},
   "source": [
    "## Data 읽어오기"
   ]
  },
  {
   "cell_type": "code",
   "execution_count": 17,
   "metadata": {},
   "outputs": [],
   "source": [
    "from tensorflow.examples.tutorials.mnist import input_data\n",
    "\n",
    "def get_data():\n",
    "    return input_data.read_data_sets(\"datasets/fashion\", one_hot=True)"
   ]
  },
  {
   "cell_type": "markdown",
   "metadata": {},
   "source": [
    "### Fashion MNIST <a class='tocSkip'>\n",
    "* MNIST데이터 셋과 동일한 category수를 가지고 있으나 손글씨 숫자가 아닌 fashion item이미지로 구성\n",
    "* Fashion MNIST데이터의 category label은 다음과 같이 정의 되어 있음\n",
    "\n",
    "| Label\t| Description |\n",
    "| --- | --- |\n",
    "|0\t|T-shirt/top|\n",
    "|1\t|Trouser |\n",
    "|2\t|Pullover|\n",
    "|3\t|Dress|\n",
    "|4\t|Coat|\n",
    "|5\t|Sandal|\n",
    "|6\t|Shirt|\n",
    "|7\t|Sneaker|\n",
    "|8\t|Bag|\n",
    "|9\t|Ankle boot|"
   ]
  },
  {
   "cell_type": "markdown",
   "metadata": {},
   "source": [
    "### Data 확인"
   ]
  },
  {
   "cell_type": "code",
   "execution_count": 18,
   "metadata": {},
   "outputs": [
    {
     "name": "stdout",
     "output_type": "stream",
     "text": [
      "Extracting datasets/fashion/train-images-idx3-ubyte.gz\n",
      "Extracting datasets/fashion/train-labels-idx1-ubyte.gz\n",
      "Extracting datasets/fashion/t10k-images-idx3-ubyte.gz\n",
      "Extracting datasets/fashion/t10k-labels-idx1-ubyte.gz\n",
      "1 1 (784,)\n",
      "[0. 0. 0. 1. 0. 0. 0. 0. 0. 0.]\n"
     ]
    },
    {
     "data": {
      "image/png": "[encoded data removed]",
      "text/plain": [
       "<Figure size 432x288 with 1 Axes>"
      ]
     },
     "metadata": {
      "needs_background": "light"
     },
     "output_type": "display_data"
    }
   ],
   "source": [
    "fashion_mnist = get_data()\n",
    "test_images, test_labels = fashion_mnist.test.next_batch(1)\n",
    "print len(test_images), len(test_labels), test_images[0].shape\n",
    "plt.imshow(np.reshape(test_images[0], (28, 28)), cmap='gray')\n",
    "print test_labels[0]"
   ]
  },
  {
   "cell_type": "markdown",
   "metadata": {},
   "source": [
    "## Model 정의"
   ]
  },
  {
   "cell_type": "markdown",
   "metadata": {},
   "source": [
    "### Placeholder : graph 입력부분 정의\n",
    "* <span class=\"burk\">placeholder 부분을 정의해주세요.</span>"
   ]
  },
  {
   "cell_type": "code",
   "execution_count": 30,
   "metadata": {
    "solution2": "shown",
    "solution2_first": true
   },
   "outputs": [],
   "source": [
    "def get_inputs():\n",
    "    x = tf.placeholder(tf.float32, [None, 28*28])\n",
    "    y = tf.placeholder(tf.float32, [None, 10])\n",
    "\n",
    "    return x, y\n",
    "\n"
   ]
  },
  {
   "cell_type": "markdown",
   "metadata": {
    "deletable": false,
    "editable": false,
    "run_control": {
     "frozen": true
    },
    "solution2": "shown"
   },
   "source": [
    "```python\n",
    "def get_inputs():\n",
    "    x = tf.placeholder(tf.float32, [None, 28*28])\n",
    "    y = tf.placeholder(tf.float32, [None, 10])\n",
    "    \n",
    "    return x, y\n",
    "```"
   ]
  },
  {
   "cell_type": "markdown",
   "metadata": {},
   "source": [
    "### Model : algorithm 을 graph 연산으로 정의\n",
    "* <span class=\"burk\">모델을 자유롭게 구성해주세요.</span>"
   ]
  },
  {
   "cell_type": "code",
   "execution_count": 23,
   "metadata": {
    "solution2": "shown",
    "solution2_first": true
   },
   "outputs": [],
   "source": [
    "def build_model(images):\n",
    "\n",
    "  x_image = tf.reshape(images, [-1, 28, 28, 1])\n",
    "\n",
    "  # filter shape : w, h, in_channel, out_channel\n",
    "  conv1_filters = tf.Variable(tf.random_normal([3, 3, 1, 16], stddev=0.01))\n",
    "  conv1 = tf.nn.conv2d(x_image, conv1_filters, strides=[1, 1, 1, 1], padding='SAME')\n",
    "  conv1 = tf.nn.relu(conv1)\n",
    "  print 'conv1', conv1\n",
    "\n",
    "  pool1 = tf.nn.max_pool(conv1, ksize=[1, 2, 2, 1], strides=[1, 2, 2, 1], padding='SAME')\n",
    "  print 'pool1', pool1\n",
    "\n",
    "  batch, h, w, d = [x.value for x in pool1.get_shape()]    \n",
    "  flatten = tf.reshape(pool1, [-1, h*w*d])\n",
    "  print 'flatten', flatten\n",
    "\n",
    "  fc_weights = tf.Variable(tf.random_normal([h*w*d, 10], stddev=0.01))\n",
    "  fc_bias = tf.Variable(tf.random_normal([10]))\n",
    "\n",
    "  logits = tf.matmul(flatten, fc_weights) + fc_bias\n",
    "  print 'logits', logits\n",
    "\n",
    "  return logits\n"
   ]
  },
  {
   "cell_type": "markdown",
   "metadata": {
    "solution2": "shown"
   },
   "source": [
    "* MNIST Example과 동일한 모델\n",
    "```python\n",
    "def build_model(images):\n",
    "    \n",
    "    x_image = tf.reshape(images, [-1, 28, 28, 1])\n",
    "    \n",
    "    # filter shape : w, h, in_channel, out_channel\n",
    "    conv1_filters = tf.Variable(tf.random_normal([3, 3, 1, 16], stddev=0.01))\n",
    "    conv1 = tf.nn.conv2d(x_image, conv1_filters, strides=[1, 1, 1, 1], padding='SAME')\n",
    "    conv1 = tf.nn.relu(conv1)\n",
    "    print 'conv1', conv1\n",
    "    \n",
    "    pool1 = tf.nn.max_pool(conv1, ksize=[1, 2, 2, 1], strides=[1, 2, 2, 1], padding='SAME')\n",
    "    print 'pool1', pool1\n",
    "    \n",
    "    batch, h, w, d = [x.value for x in pool1.get_shape()]    \n",
    "    flatten = tf.reshape(pool1, [-1, h*w*d])\n",
    "    print 'flatten', flatten\n",
    "    \n",
    "    fc_weights = tf.Variable(tf.random_normal([h*w*d, 10], stddev=0.01))\n",
    "    fc_bias = tf.Variable(tf.random_normal([10]))\n",
    "    \n",
    "    logits = tf.matmul(flatten, fc_weights) + fc_bias\n",
    "    print 'logits', logits\n",
    "    \n",
    "    return logits\n",
    "```"
   ]
  },
  {
   "cell_type": "markdown",
   "metadata": {},
   "source": [
    "## Loss 정의"
   ]
  },
  {
   "cell_type": "code",
   "execution_count": 24,
   "metadata": {},
   "outputs": [],
   "source": [
    "def get_loss(logits, labels):\n",
    "    return tf.reduce_mean(tf.nn.softmax_cross_entropy_with_logits_v2(logits=logits, labels=labels))"
   ]
  },
  {
   "cell_type": "markdown",
   "metadata": {},
   "source": [
    "## Optimizer 정의"
   ]
  },
  {
   "cell_type": "code",
   "execution_count": 25,
   "metadata": {},
   "outputs": [],
   "source": [
    "def get_optimizer(lr): \n",
    "    return tf.train.GradientDescentOptimizer(learning_rate=lr)"
   ]
  },
  {
   "cell_type": "markdown",
   "metadata": {},
   "source": [
    "## Train Graph 정의"
   ]
  },
  {
   "cell_type": "code",
   "execution_count": 26,
   "metadata": {},
   "outputs": [
    {
     "name": "stdout",
     "output_type": "stream",
     "text": [
      "Extracting datasets/fashion/train-images-idx3-ubyte.gz\n",
      "Extracting datasets/fashion/train-labels-idx1-ubyte.gz\n",
      "Extracting datasets/fashion/t10k-images-idx3-ubyte.gz\n",
      "Extracting datasets/fashion/t10k-labels-idx1-ubyte.gz\n",
      "conv1 Tensor(\"Relu:0\", shape=(?, 28, 28, 16), dtype=float32)\n",
      "pool1 Tensor(\"MaxPool:0\", shape=(?, 14, 14, 16), dtype=float32)\n",
      "flatten Tensor(\"Reshape_1:0\", shape=(?, 3136), dtype=float32)\n",
      "logits Tensor(\"add:0\", shape=(?, 10), dtype=float32)\n"
     ]
    }
   ],
   "source": [
    "fashion_mnist = get_data()\n",
    "\n",
    "images, labels = get_inputs()\n",
    "logits = build_model(images)\n",
    "\n",
    "loss = get_loss(logits, labels)\n",
    "optimizer = get_optimizer(lr=0.1)\n",
    "\n",
    "train_op = optimizer.minimize(loss)"
   ]
  },
  {
   "cell_type": "markdown",
   "metadata": {},
   "source": [
    "## Metric 정의"
   ]
  },
  {
   "cell_type": "code",
   "execution_count": 27,
   "metadata": {},
   "outputs": [],
   "source": [
    "prediction = tf.nn.softmax(logits)\n",
    "correct_prediction = tf.equal(tf.argmax(prediction, 1), tf.argmax(labels, 1))\n",
    "accuracy = tf.reduce_mean(tf.cast(correct_prediction, tf.float32))"
   ]
  },
  {
   "cell_type": "markdown",
   "metadata": {},
   "source": [
    "# Run Graph"
   ]
  },
  {
   "cell_type": "code",
   "execution_count": 31,
   "metadata": {},
   "outputs": [],
   "source": [
    "BATCH_SIZE = 100\n",
    "EPOCHS = 10\n",
    "\n",
    "NUM_BATCH_PER_EPOCH = int(fashion_mnist.train.images.shape[0]/float(BATCH_SIZE))"
   ]
  },
  {
   "cell_type": "markdown",
   "metadata": {},
   "source": [
    "## Training\n",
    "* <span class=\"burk\">training코드를 완성해주세요.</span>"
   ]
  },
  {
   "cell_type": "code",
   "execution_count": 32,
   "metadata": {
    "solution2": "shown",
    "solution2_first": true
   },
   "outputs": [
    {
     "name": "stdout",
     "output_type": "stream",
     "text": [
      "0 Epoch, 0 Step : accuracy(0.1000), loss(3.1915)\n",
      "0 Epoch, 50 Step : accuracy(0.5417), loss(1.1643)\n",
      "0 Epoch, 100 Step : accuracy(0.6990), loss(0.8796)\n",
      "0 Epoch, 150 Step : accuracy(0.7231), loss(0.7555)\n",
      "0 Epoch, 200 Step : accuracy(0.7273), loss(0.7760)\n",
      "0 Epoch, 250 Step : accuracy(0.7610), loss(0.6837)\n",
      "0 Epoch, 300 Step : accuracy(0.7500), loss(0.6686)\n",
      "0 Epoch, 350 Step : accuracy(0.7553), loss(0.7217)\n",
      "0 Epoch, 400 Step : accuracy(0.7846), loss(0.6035)\n",
      "0 Epoch, 450 Step : accuracy(0.8080), loss(0.5580)\n",
      "0 Epoch, 500 Step : accuracy(0.8072), loss(0.5517)\n",
      "1 Epoch, 0 Step : accuracy(0.8017), loss(0.5721)\n",
      "1 Epoch, 50 Step : accuracy(0.8236), loss(0.5092)\n",
      "1 Epoch, 100 Step : accuracy(0.8124), loss(0.5316)\n",
      "1 Epoch, 150 Step : accuracy(0.8265), loss(0.5032)\n",
      "1 Epoch, 200 Step : accuracy(0.8003), loss(0.5798)\n",
      "1 Epoch, 250 Step : accuracy(0.8353), loss(0.4800)\n",
      "1 Epoch, 300 Step : accuracy(0.8285), loss(0.4832)\n",
      "1 Epoch, 350 Step : accuracy(0.8408), loss(0.4627)\n",
      "1 Epoch, 400 Step : accuracy(0.8061), loss(0.5137)\n",
      "1 Epoch, 450 Step : accuracy(0.8434), loss(0.4525)\n",
      "1 Epoch, 500 Step : accuracy(0.8323), loss(0.4640)\n",
      "2 Epoch, 0 Step : accuracy(0.8472), loss(0.4400)\n",
      "2 Epoch, 50 Step : accuracy(0.8440), loss(0.4382)\n",
      "2 Epoch, 100 Step : accuracy(0.8413), loss(0.4460)\n",
      "2 Epoch, 150 Step : accuracy(0.8364), loss(0.4506)\n",
      "2 Epoch, 200 Step : accuracy(0.8204), loss(0.4932)\n",
      "2 Epoch, 250 Step : accuracy(0.8502), loss(0.4299)\n",
      "2 Epoch, 300 Step : accuracy(0.8563), loss(0.4207)\n",
      "2 Epoch, 350 Step : accuracy(0.8407), loss(0.4368)\n",
      "2 Epoch, 400 Step : accuracy(0.8480), loss(0.4436)\n",
      "2 Epoch, 450 Step : accuracy(0.8470), loss(0.4365)\n",
      "2 Epoch, 500 Step : accuracy(0.8429), loss(0.4291)\n",
      "3 Epoch, 0 Step : accuracy(0.8470), loss(0.4249)\n",
      "3 Epoch, 50 Step : accuracy(0.8585), loss(0.4082)\n",
      "3 Epoch, 100 Step : accuracy(0.8490), loss(0.4257)\n",
      "3 Epoch, 150 Step : accuracy(0.8420), loss(0.4493)\n",
      "3 Epoch, 200 Step : accuracy(0.8625), loss(0.4034)\n",
      "3 Epoch, 250 Step : accuracy(0.8610), loss(0.3993)\n",
      "3 Epoch, 300 Step : accuracy(0.8635), loss(0.3912)\n",
      "3 Epoch, 350 Step : accuracy(0.8590), loss(0.4082)\n",
      "3 Epoch, 400 Step : accuracy(0.8528), loss(0.4182)\n",
      "3 Epoch, 450 Step : accuracy(0.8641), loss(0.3878)\n",
      "3 Epoch, 500 Step : accuracy(0.8484), loss(0.4230)\n",
      "4 Epoch, 0 Step : accuracy(0.8439), loss(0.4207)\n",
      "4 Epoch, 50 Step : accuracy(0.8556), loss(0.4063)\n",
      "4 Epoch, 100 Step : accuracy(0.8488), loss(0.4234)\n",
      "4 Epoch, 150 Step : accuracy(0.8666), loss(0.3864)\n",
      "4 Epoch, 200 Step : accuracy(0.8566), loss(0.3993)\n",
      "4 Epoch, 250 Step : accuracy(0.8592), loss(0.3941)\n",
      "4 Epoch, 300 Step : accuracy(0.8662), loss(0.3817)\n",
      "4 Epoch, 350 Step : accuracy(0.8663), loss(0.3784)\n",
      "4 Epoch, 400 Step : accuracy(0.8688), loss(0.3758)\n",
      "4 Epoch, 450 Step : accuracy(0.8707), loss(0.3755)\n",
      "4 Epoch, 500 Step : accuracy(0.8688), loss(0.3857)\n",
      "5 Epoch, 0 Step : accuracy(0.8655), loss(0.3792)\n",
      "5 Epoch, 50 Step : accuracy(0.8700), loss(0.3731)\n",
      "5 Epoch, 100 Step : accuracy(0.8674), loss(0.3774)\n",
      "5 Epoch, 150 Step : accuracy(0.8767), loss(0.3618)\n",
      "5 Epoch, 200 Step : accuracy(0.8726), loss(0.3703)\n",
      "5 Epoch, 250 Step : accuracy(0.8674), loss(0.3765)\n",
      "5 Epoch, 300 Step : accuracy(0.8674), loss(0.3725)\n",
      "5 Epoch, 350 Step : accuracy(0.8760), loss(0.3637)\n",
      "5 Epoch, 400 Step : accuracy(0.8606), loss(0.3923)\n",
      "5 Epoch, 450 Step : accuracy(0.8721), loss(0.3677)\n",
      "5 Epoch, 500 Step : accuracy(0.8735), loss(0.3639)\n",
      "6 Epoch, 0 Step : accuracy(0.8741), loss(0.3591)\n",
      "6 Epoch, 50 Step : accuracy(0.8744), loss(0.3591)\n",
      "6 Epoch, 100 Step : accuracy(0.8755), loss(0.3639)\n",
      "6 Epoch, 150 Step : accuracy(0.8704), loss(0.3692)\n",
      "6 Epoch, 200 Step : accuracy(0.8760), loss(0.3507)\n",
      "6 Epoch, 250 Step : accuracy(0.8766), loss(0.3517)\n",
      "6 Epoch, 300 Step : accuracy(0.8756), loss(0.3587)\n",
      "6 Epoch, 350 Step : accuracy(0.8771), loss(0.3492)\n",
      "6 Epoch, 400 Step : accuracy(0.8758), loss(0.3564)\n",
      "6 Epoch, 450 Step : accuracy(0.8717), loss(0.3636)\n",
      "6 Epoch, 500 Step : accuracy(0.8593), loss(0.3855)\n",
      "7 Epoch, 0 Step : accuracy(0.8762), loss(0.3559)\n",
      "7 Epoch, 50 Step : accuracy(0.8760), loss(0.3479)\n",
      "7 Epoch, 100 Step : accuracy(0.8777), loss(0.3490)\n",
      "7 Epoch, 150 Step : accuracy(0.8655), loss(0.3692)\n",
      "7 Epoch, 200 Step : accuracy(0.8790), loss(0.3475)\n",
      "7 Epoch, 250 Step : accuracy(0.8741), loss(0.3568)\n",
      "7 Epoch, 300 Step : accuracy(0.8690), loss(0.3766)\n",
      "7 Epoch, 350 Step : accuracy(0.8785), loss(0.3393)\n",
      "7 Epoch, 400 Step : accuracy(0.8769), loss(0.3446)\n",
      "7 Epoch, 450 Step : accuracy(0.8799), loss(0.3431)\n",
      "7 Epoch, 500 Step : accuracy(0.8779), loss(0.3434)\n",
      "8 Epoch, 0 Step : accuracy(0.8788), loss(0.3493)\n",
      "8 Epoch, 50 Step : accuracy(0.8823), loss(0.3362)\n",
      "8 Epoch, 100 Step : accuracy(0.8740), loss(0.3447)\n",
      "8 Epoch, 150 Step : accuracy(0.8790), loss(0.3431)\n",
      "8 Epoch, 200 Step : accuracy(0.8768), loss(0.3480)\n",
      "8 Epoch, 250 Step : accuracy(0.8766), loss(0.3483)\n",
      "8 Epoch, 300 Step : accuracy(0.8799), loss(0.3382)\n",
      "8 Epoch, 350 Step : accuracy(0.8673), loss(0.3672)\n",
      "8 Epoch, 400 Step : accuracy(0.8783), loss(0.3438)\n",
      "8 Epoch, 450 Step : accuracy(0.8834), loss(0.3364)\n",
      "8 Epoch, 500 Step : accuracy(0.8785), loss(0.3487)\n",
      "9 Epoch, 0 Step : accuracy(0.8785), loss(0.3464)\n",
      "9 Epoch, 50 Step : accuracy(0.8817), loss(0.3354)\n",
      "9 Epoch, 100 Step : accuracy(0.8792), loss(0.3330)\n",
      "9 Epoch, 150 Step : accuracy(0.8831), loss(0.3324)\n",
      "9 Epoch, 200 Step : accuracy(0.8830), loss(0.3358)\n",
      "9 Epoch, 250 Step : accuracy(0.8804), loss(0.3317)\n",
      "9 Epoch, 300 Step : accuracy(0.8824), loss(0.3351)\n",
      "9 Epoch, 350 Step : accuracy(0.8812), loss(0.3361)\n",
      "9 Epoch, 400 Step : accuracy(0.8813), loss(0.3335)\n",
      "9 Epoch, 450 Step : accuracy(0.8744), loss(0.3595)\n",
      "9 Epoch, 500 Step : accuracy(0.8807), loss(0.3381)\n"
     ]
    }
   ],
   "source": [
    "sess = tf.Session()\n",
    "sess.run(tf.global_variables_initializer())\n",
    "\n",
    "for epoch in range(EPOCHS):\n",
    "    for step in range(NUM_BATCH_PER_EPOCH):\n",
    "        # batch_data 읽어오기\n",
    "        batch_images, batch_labels = fashion_mnist.train.next_batch(BATCH_SIZE)\n",
    "        # train_op실행하기\n",
    "        sess.run(train_op, feed_dict={images:batch_images, labels:batch_labels})\n",
    "\n",
    "        if step % 50 == 0:\n",
    "            _accuracy, _loss = sess.run([accuracy, loss], feed_dict = {images:fashion_mnist.test.images, labels:fashion_mnist.test.labels})\n",
    "            print '{} Epoch, {} Step : accuracy({:.4f}), loss({:.4f})'.format(epoch, step, _accuracy, _loss)"
   ]
  },
  {
   "cell_type": "markdown",
   "metadata": {
    "solution2": "shown"
   },
   "source": [
    "```python\n",
    "sess = tf.Session()\n",
    "sess.run(tf.global_variables_initializer())\n",
    "\n",
    "for epoch in range(EPOCHS):\n",
    "    for step in range(NUM_BATCH_PER_EPOCH):\n",
    "        # batch_data 읽어오기\n",
    "        batch_images, batch_labels = fashion_mnist.train.next_batch(BATCH_SIZE)\n",
    "        # train_op실행하기\n",
    "        sess.run(train_op, feed_dict={images:batch_images, labels:batch_labels})\n",
    "        \n",
    "        if step % 50 == 0:\n",
    "            _accuracy, _loss = sess.run([accuracy, loss], feed_dict = {images:fashion_mnist.test.images, labels:fashion_mnist.test.labels})\n",
    "            print '{} Epoch, {} Step : accuracy({:.4f}), loss({:.4f})'.format(epoch, step, _accuracy, _loss)\n",
    "```"
   ]
  },
  {
   "cell_type": "code",
   "execution_count": null,
   "metadata": {},
   "outputs": [],
   "source": []
  }
 ],
 "metadata": {
  "kernelspec": {
   "display_name": "Python 2",
   "language": "python",
   "name": "python2"
  },
  "language_info": {
   "codemirror_mode": {
    "name": "ipython",
    "version": 2
   },
   "file_extension": ".py",
   "mimetype": "text/x-python",
   "name": "python",
   "nbconvert_exporter": "python",
   "pygments_lexer": "ipython2",
   "version": "2.7.12"
  },
  "latex_envs": {
   "LaTeX_envs_menu_present": true,
   "autoclose": false,
   "autocomplete": true,
   "bibliofile": "biblio.bib",
   "cite_by": "apalike",
   "current_citInitial": 1,
   "eqLabelWithNumbers": true,
   "eqNumInitial": 1,
   "hotkeys": {
    "equation": "Ctrl-E",
    "itemize": "Ctrl-I"
   },
   "labels_anchors": false,
   "latex_user_defs": false,
   "report_style_numbering": false,
   "user_envs_cfg": false
  },
  "toc": {
   "base_numbering": 1,
   "nav_menu": {},
   "number_sections": true,
   "sideBar": true,
   "skip_h1_title": false,
   "title_cell": "Table of Contents",
   "title_sidebar": "Contents",
   "toc_cell": false,
   "toc_position": {
    "height": "calc(100% - 180px)",
    "left": "10px",
    "top": "150px",
    "width": "265.391px"
   },
   "toc_section_display": true,
   "toc_window_display": true
  }
 },
 "nbformat": 4,
 "nbformat_minor": 2
}
