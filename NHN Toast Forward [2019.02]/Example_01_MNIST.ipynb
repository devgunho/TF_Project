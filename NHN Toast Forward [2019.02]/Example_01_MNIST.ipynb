{
 "cells": [
  {
   "cell_type": "code",
   "execution_count": 1,
   "metadata": {},
   "outputs": [],
   "source": [
    "import tensorflow as tf\n",
    "from tensorflow.examples.tutorials.mnist import input_data\n",
    "import matplotlib.pyplot as plt\n",
    "import numpy as np\n",
    "import os\n",
    "\n",
    "tf.logging.set_verbosity(tf.logging.ERROR)"
   ]
  },
  {
   "cell_type": "markdown",
   "metadata": {},
   "source": [
    "# Build Graph"
   ]
  },
  {
   "cell_type": "markdown",
   "metadata": {},
   "source": [
    "## Data 읽어오기"
   ]
  },
  {
   "cell_type": "code",
   "execution_count": 2,
   "metadata": {
    "code_folding": [],
    "solution": "shown",
    "solution_first": true
   },
   "outputs": [],
   "source": [
    "def get_data():\n",
    "    return input_data.read_data_sets(\"datasets/mnist\", one_hot=True)"
   ]
  },
  {
   "cell_type": "markdown",
   "metadata": {},
   "source": [
    "## Model 정의"
   ]
  },
  {
   "cell_type": "markdown",
   "metadata": {},
   "source": [
    "### Placeholder : graph 입력부분 정의"
   ]
  },
  {
   "cell_type": "code",
   "execution_count": 3,
   "metadata": {
    "solution": "hidden",
    "solution_first": true
   },
   "outputs": [],
   "source": [
    "def get_inputs():\n",
    "    # image data입력 부분\n",
    "    x = tf.placeholder(dtype=tf.float32, shape=[None, 28*28])\n",
    "    # label data입력 부분\n",
    "    y = tf.placeholder(dtype=tf.float32, shape=[None, 10])\n",
    "    \n",
    "    return x, y"
   ]
  },
  {
   "cell_type": "markdown",
   "metadata": {},
   "source": [
    "### Model : algorithm 을 graph 연산으로 정의"
   ]
  },
  {
   "cell_type": "code",
   "execution_count": 4,
   "metadata": {},
   "outputs": [],
   "source": [
    "def get_model(images):\n",
    "    \n",
    "    x_image = tf.reshape(images, [-1, 28, 28, 1])\n",
    "    \n",
    "    # filter shape : w, h, in_channel, out_channel\n",
    "    conv1_filters = tf.Variable(tf.random_normal([3, 3, 1, 16], stddev=0.01))\n",
    "    conv1 = tf.nn.conv2d(x_image, conv1_filters, strides=[1, 1, 1, 1], padding='SAME')\n",
    "    conv1 = tf.nn.relu(conv1)\n",
    "    print 'conv1', conv1\n",
    "\n",
    "    pool1 = tf.nn.max_pool(conv1, ksize=[1, 2, 2, 1], strides=[1, 2, 2, 1], padding='SAME')\n",
    "    print 'pool1', pool1\n",
    "\n",
    "    batch, h, w, d = [x.value for x in pool1.get_shape()]    \n",
    "    flatten = tf.reshape(pool1, [-1, h*w*d])\n",
    "    print 'flatten', flatten\n",
    "    \n",
    "    fc_weights = tf.Variable(tf.random_normal([h*w*d, 10], stddev=0.01))\n",
    "    fc_bias = tf.Variable(tf.random_normal([10]))\n",
    "    \n",
    "    logits = tf.matmul(flatten, fc_weights) + fc_bias\n",
    "    print 'logits', logits\n",
    "    return logits"
   ]
  },
  {
   "cell_type": "markdown",
   "metadata": {},
   "source": [
    "## Loss 정의"
   ]
  },
  {
   "cell_type": "code",
   "execution_count": 5,
   "metadata": {},
   "outputs": [],
   "source": [
    "def get_loss(logits, labels):\n",
    "    return tf.reduce_mean(tf.nn.softmax_cross_entropy_with_logits_v2(logits=logits, labels=labels))"
   ]
  },
  {
   "cell_type": "markdown",
   "metadata": {},
   "source": [
    "## Optimizer 정의"
   ]
  },
  {
   "cell_type": "code",
   "execution_count": 6,
   "metadata": {},
   "outputs": [],
   "source": [
    "def get_optimizer(lr): \n",
    "    return tf.train.GradientDescentOptimizer(learning_rate=lr)"
   ]
  },
  {
   "cell_type": "markdown",
   "metadata": {},
   "source": [
    "## Train Graph 정의"
   ]
  },
  {
   "cell_type": "code",
   "execution_count": 7,
   "metadata": {},
   "outputs": [
    {
     "name": "stdout",
     "output_type": "stream",
     "text": [
      "Extracting datasets/mnist/train-images-idx3-ubyte.gz\n",
      "Extracting datasets/mnist/train-labels-idx1-ubyte.gz\n",
      "Extracting datasets/mnist/t10k-images-idx3-ubyte.gz\n",
      "Extracting datasets/mnist/t10k-labels-idx1-ubyte.gz\n",
      "conv1 Tensor(\"Relu:0\", shape=(?, 28, 28, 16), dtype=float32)\n",
      "pool1 Tensor(\"MaxPool:0\", shape=(?, 14, 14, 16), dtype=float32)\n",
      "flatten Tensor(\"Reshape_1:0\", shape=(?, 3136), dtype=float32)\n",
      "logits Tensor(\"add:0\", shape=(?, 10), dtype=float32)\n"
     ]
    }
   ],
   "source": [
    "# 1. 데이터 읽기\n",
    "mnist = get_data()\n",
    "\n",
    "# 2. 모델과 모델입력부분 만들기\n",
    "images, labels = get_inputs()\n",
    "model_out = get_model(images)\n",
    "\n",
    "# 3. Loss 만들기\n",
    "loss = get_loss(model_out, labels)\n",
    "\n",
    "# 4. Optimizer 만들기\n",
    "optimizer = get_optimizer(lr=0.1)\n",
    "\n",
    "train_op = optimizer.minimize(loss)"
   ]
  },
  {
   "cell_type": "markdown",
   "metadata": {},
   "source": [
    "## (Optional) Metric 정의"
   ]
  },
  {
   "cell_type": "code",
   "execution_count": 8,
   "metadata": {},
   "outputs": [],
   "source": [
    "prediction = tf.nn.softmax(model_out)\n",
    "correct_prediction = tf.equal(tf.argmax(prediction, 1), tf.argmax(labels, 1))\n",
    "accuracy = tf.reduce_mean(tf.cast(correct_prediction, tf.float32))"
   ]
  },
  {
   "cell_type": "markdown",
   "metadata": {},
   "source": [
    "# Run Graph"
   ]
  },
  {
   "cell_type": "code",
   "execution_count": 9,
   "metadata": {},
   "outputs": [],
   "source": [
    "EPOCHS = 3\n",
    "BATCH_SIZE = 100\n",
    "NUM_BATCH_PER_EPOCH = int(mnist.train.images.shape[0]/float(BATCH_SIZE))"
   ]
  },
  {
   "cell_type": "markdown",
   "metadata": {},
   "source": [
    "## Training"
   ]
  },
  {
   "cell_type": "code",
   "execution_count": 10,
   "metadata": {},
   "outputs": [
    {
     "name": "stdout",
     "output_type": "stream",
     "text": [
      "0 Epoch, 0 Step : acc(0.0500), loss(2.5984)\n",
      "0 Epoch, 100 Step : acc(0.8600), loss(0.5017)\n",
      "0 Epoch, 200 Step : acc(0.8900), loss(0.3413)\n",
      "0 Epoch, 300 Step : acc(0.9300), loss(0.2371)\n",
      "0 Epoch, 400 Step : acc(0.9100), loss(0.2648)\n",
      "0 Epoch, 500 Step : acc(0.8400), loss(0.5781)\n",
      "1 Epoch, 0 Step : acc(0.9600), loss(0.1924)\n",
      "1 Epoch, 100 Step : acc(0.9000), loss(0.2607)\n",
      "1 Epoch, 200 Step : acc(0.8900), loss(0.3644)\n",
      "1 Epoch, 300 Step : acc(0.9100), loss(0.2403)\n",
      "1 Epoch, 400 Step : acc(0.9100), loss(0.3497)\n",
      "1 Epoch, 500 Step : acc(0.8800), loss(0.4741)\n",
      "2 Epoch, 0 Step : acc(0.8600), loss(0.4483)\n",
      "2 Epoch, 100 Step : acc(0.9300), loss(0.2329)\n",
      "2 Epoch, 200 Step : acc(0.9300), loss(0.2527)\n",
      "2 Epoch, 300 Step : acc(0.9500), loss(0.2022)\n",
      "2 Epoch, 400 Step : acc(0.8700), loss(0.3921)\n",
      "2 Epoch, 500 Step : acc(0.9700), loss(0.2174)\n"
     ]
    }
   ],
   "source": [
    "sess = tf.Session()\n",
    "sess.run(tf.global_variables_initializer())\n",
    "\n",
    "for ep in range(EPOCHS):\n",
    "    for st in range(NUM_BATCH_PER_EPOCH):\n",
    "        batch_images, batch_labels = mnist.train.next_batch(BATCH_SIZE)\n",
    "        _, _acc, _loss = sess.run([train_op, accuracy, loss], feed_dict={images:batch_images, labels:batch_labels})\n",
    "        \n",
    "        if st % 100 == 0:\n",
    "            print '{} Epoch, {} Step : acc({:.4f}), loss({:.4f})'.format(ep, st, _acc, _loss)"
   ]
  },
  {
   "cell_type": "code",
   "execution_count": null,
   "metadata": {},
   "outputs": [],
   "source": []
  }
 ],
 "metadata": {
  "kernelspec": {
   "display_name": "Python 2",
   "language": "python",
   "name": "python2"
  },
  "language_info": {
   "codemirror_mode": {
    "name": "ipython",
    "version": 2
   },
   "file_extension": ".py",
   "mimetype": "text/x-python",
   "name": "python",
   "nbconvert_exporter": "python",
   "pygments_lexer": "ipython2",
   "version": "2.7.12"
  },
  "latex_envs": {
   "LaTeX_envs_menu_present": true,
   "autoclose": false,
   "autocomplete": true,
   "bibliofile": "biblio.bib",
   "cite_by": "apalike",
   "current_citInitial": 1,
   "eqLabelWithNumbers": true,
   "eqNumInitial": 1,
   "hotkeys": {
    "equation": "Ctrl-E",
    "itemize": "Ctrl-I"
   },
   "labels_anchors": false,
   "latex_user_defs": false,
   "report_style_numbering": false,
   "user_envs_cfg": false
  },
  "toc": {
   "base_numbering": 1,
   "nav_menu": {},
   "number_sections": true,
   "sideBar": true,
   "skip_h1_title": false,
   "title_cell": "Table of Contents",
   "title_sidebar": "Contents",
   "toc_cell": false,
   "toc_position": {
    "height": "calc(100% - 180px)",
    "left": "10px",
    "top": "150px",
    "width": "351px"
   },
   "toc_section_display": true,
   "toc_window_display": false
  }
 },
 "nbformat": 4,
 "nbformat_minor": 2
}
