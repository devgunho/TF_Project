{
 "cells": [
  {
   "cell_type": "markdown",
   "metadata": {},
   "source": [
    "# Example: Logistic Classfication <a class=\"tocSkip\"> "
   ]
  },
  {
   "cell_type": "code",
   "execution_count": 2,
   "metadata": {},
   "outputs": [
    {
     "name": "stdout",
     "output_type": "stream",
     "text": [
      "tensorflow ver.1.10.0\n"
     ]
    }
   ],
   "source": [
    "import tensorflow as tf\n",
    "import numpy as np\n",
    "import os\n",
    "os.environ['CUDA_VISIBLE_DEVICES'] = ''\n",
    "\n",
    "print ('tensorflow ver.{}'.format(tf.__version__))"
   ]
  },
  {
   "cell_type": "markdown",
   "metadata": {},
   "source": [
    "# Build Graph"
   ]
  },
  {
   "cell_type": "markdown",
   "metadata": {},
   "source": [
    "## Data 읽어오기"
   ]
  },
  {
   "cell_type": "code",
   "execution_count": 3,
   "metadata": {},
   "outputs": [],
   "source": [
    "def get_data():\n",
    "    data_x = np.reshape([[10, 1], [9, 1], [3, 1], [2, 1]], newshape=(4, 2))\n",
    "    data_y = np.reshape([1, 1, 0, 0], newshape=(4, 1))\n",
    "    \n",
    "    return data_x, data_y"
   ]
  },
  {
   "cell_type": "markdown",
   "metadata": {},
   "source": [
    "## Model 정의"
   ]
  },
  {
   "cell_type": "markdown",
   "metadata": {},
   "source": [
    "### - `Placeholder`: graph input 설정"
   ]
  },
  {
   "cell_type": "code",
   "execution_count": 4,
   "metadata": {},
   "outputs": [],
   "source": [
    "def build_model(X,W):\n",
    "    hypothesis = tf.sigmoid(tf.matmul(X, W))\n",
    "    \n",
    "    return hypothesis"
   ]
  },
  {
   "cell_type": "markdown",
   "metadata": {},
   "source": [
    "## Loss 정의"
   ]
  },
  {
   "cell_type": "code",
   "execution_count": 5,
   "metadata": {},
   "outputs": [],
   "source": [
    "def get_loss(Y, model):\n",
    "    loss = tf.reduce_mean(-tf.reduce_sum(Y*tf.log(model) + (1-Y)*(tf.log(1-model))))\n",
    "    \n",
    "    return loss"
   ]
  },
  {
   "cell_type": "markdown",
   "metadata": {},
   "source": [
    "## Optimizer 설정"
   ]
  },
  {
   "cell_type": "code",
   "execution_count": 6,
   "metadata": {},
   "outputs": [],
   "source": [
    "def get_optimizer(lr_policy=None):\n",
    "    optimizer = tf.train.GradientDescentOptimizer(learning_rate=0.01)\n",
    "    \n",
    "    return optimizer"
   ]
  },
  {
   "cell_type": "markdown",
   "metadata": {},
   "source": [
    "## Train Step 정의"
   ]
  },
  {
   "cell_type": "code",
   "execution_count": 7,
   "metadata": {},
   "outputs": [],
   "source": [
    "def get_train_step(loss, optimizer):\n",
    "    train_step = optimizer.minimize(loss)\n",
    "\n",
    "    return train_step"
   ]
  },
  {
   "cell_type": "markdown",
   "metadata": {},
   "source": [
    "## Graph 정의"
   ]
  },
  {
   "cell_type": "code",
   "execution_count": 8,
   "metadata": {},
   "outputs": [],
   "source": [
    "# 데이터 읽어오기\n",
    "data_x, data_y = get_data()\n",
    "\n",
    "# 모델 만들기\n",
    "X = tf.placeholder(tf.float32, shape=[4, 2])\n",
    "Y = tf.placeholder(tf.float32, shape=[4, 1])\n",
    "W = tf.Variable(tf.random_normal([2, 1]), name='weight')\n",
    "\n",
    "# Model 정의\n",
    "model = build_model(X,W)\n",
    "\n",
    "# Loss 정의\n",
    "loss = get_loss(Y, model)\n",
    "\n",
    "# Optimizer 설정\n",
    "optimizer = get_optimizer()\n",
    "\n",
    "# Train Step 정의\n",
    "train_step = get_train_step(loss, optimizer)"
   ]
  },
  {
   "cell_type": "markdown",
   "metadata": {},
   "source": [
    "---"
   ]
  },
  {
   "cell_type": "markdown",
   "metadata": {},
   "source": [
    "# Run Graph"
   ]
  },
  {
   "cell_type": "markdown",
   "metadata": {},
   "source": [
    "## Session 생성 및 Variables 초기화"
   ]
  },
  {
   "cell_type": "code",
   "execution_count": 9,
   "metadata": {},
   "outputs": [],
   "source": [
    "sess = tf.Session()\n",
    "sess.run(tf.global_variables_initializer())"
   ]
  },
  {
   "cell_type": "markdown",
   "metadata": {},
   "source": [
    "## Graph 실행"
   ]
  },
  {
   "cell_type": "code",
   "execution_count": 10,
   "metadata": {},
   "outputs": [
    {
     "name": "stdout",
     "output_type": "stream",
     "text": [
      "--step:   0, W:(0.90, 1.31), Loss:7.20\n",
      "--step:  30, W:(0.06, 0.85), Loss:3.06\n",
      "--step:  60, W:(0.10, 0.54), Loss:2.73\n",
      "--step:  90, W:(0.14, 0.25), Loss:2.45\n",
      "--step: 120, W:(0.17, -0.02), Loss:2.20\n",
      "--step: 150, W:(0.21, -0.27), Loss:1.99\n",
      "--step: 180, W:(0.24, -0.51), Loss:1.80\n",
      "--step: 210, W:(0.27, -0.73), Loss:1.64\n",
      "--step: 240, W:(0.30, -0.93), Loss:1.50\n",
      "--step: 270, W:(0.33, -1.12), Loss:1.37\n",
      "--step: 300, W:(0.36, -1.30), Loss:1.26\n",
      "--step: 330, W:(0.38, -1.47), Loss:1.17\n",
      "--step: 360, W:(0.40, -1.62), Loss:1.09\n",
      "--step: 390, W:(0.43, -1.77), Loss:1.01\n",
      "--step: 420, W:(0.45, -1.91), Loss:0.95\n",
      "--step: 450, W:(0.47, -2.04), Loss:0.89\n",
      "--step: 480, W:(0.49, -2.16), Loss:0.84\n"
     ]
    }
   ],
   "source": [
    "for step in range(501):\n",
    "    # Run graph\n",
    "    sess.run(train_step, feed_dict={X:data_x, Y:data_y})\n",
    "    if (step) % 30 == 0:\n",
    "        _loss, _W = sess.run([loss, W], feed_dict={X:data_x, Y:data_y})\n",
    "        print '--step: {:3d}, W:({:.2f}, {:.2f}), Loss:{:.2f}'.format(step, _W[0][0], _W[1][0], _loss)"
   ]
  },
  {
   "cell_type": "code",
   "execution_count": 12,
   "metadata": {},
   "outputs": [
    {
     "name": "stdout",
     "output_type": "stream",
     "text": [
      "[[0.85115093]\n",
      " [0.9622523 ]\n",
      " [0.6785666 ]\n",
      " [0.14880951]]\n"
     ]
    }
   ],
   "source": [
    "data_test = np.reshape([[8, 1], [11, 1], [6, 1], [1, 1]], newshape=(4, 2))\n",
    "print(sess.run(model,feed_dict={X:data_test}))"
   ]
  },
  {
   "cell_type": "code",
   "execution_count": null,
   "metadata": {},
   "outputs": [],
   "source": []
  }
 ],
 "metadata": {
  "kernelspec": {
   "display_name": "Python 2",
   "language": "python",
   "name": "python2"
  },
  "language_info": {
   "codemirror_mode": {
    "name": "ipython",
    "version": 2
   },
   "file_extension": ".py",
   "mimetype": "text/x-python",
   "name": "python",
   "nbconvert_exporter": "python",
   "pygments_lexer": "ipython2",
   "version": "2.7.12"
  },
  "latex_envs": {
   "LaTeX_envs_menu_present": true,
   "autoclose": false,
   "autocomplete": true,
   "bibliofile": "biblio.bib",
   "cite_by": "apalike",
   "current_citInitial": 1,
   "eqLabelWithNumbers": true,
   "eqNumInitial": 1,
   "hotkeys": {
    "equation": "Ctrl-E",
    "itemize": "Ctrl-I"
   },
   "labels_anchors": false,
   "latex_user_defs": false,
   "report_style_numbering": false,
   "user_envs_cfg": false
  },
  "toc": {
   "base_numbering": 1,
   "nav_menu": {},
   "number_sections": true,
   "sideBar": true,
   "skip_h1_title": false,
   "title_cell": "Table of Contents",
   "title_sidebar": "Contents",
   "toc_cell": false,
   "toc_position": {
    "height": "calc(100% - 180px)",
    "left": "10px",
    "top": "150px",
    "width": "277.797px"
   },
   "toc_section_display": true,
   "toc_window_display": true
  }
 },
 "nbformat": 4,
 "nbformat_minor": 2
}
